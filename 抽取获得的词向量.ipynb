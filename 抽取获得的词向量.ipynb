{
 "cells": [
  {
   "cell_type": "markdown",
   "metadata": {
    "toc": true
   },
   "source": [
    "<h1>Table of Contents<span class=\"tocSkip\"></span></h1>\n",
    "<div class=\"toc\"><ul class=\"toc-item\"></ul></div>"
   ]
  },
  {
   "cell_type": "code",
   "execution_count": 1,
   "metadata": {},
   "outputs": [],
   "source": [
    "import json"
   ]
  },
  {
   "cell_type": "code",
   "execution_count": 3,
   "metadata": {},
   "outputs": [],
   "source": [
    "wf=open('../data/word_dic.json')\n",
    "word_dic=json.load(wf)"
   ]
  },
  {
   "cell_type": "code",
   "execution_count": 4,
   "metadata": {},
   "outputs": [
    {
     "data": {
      "text/plain": [
       "'中国'"
      ]
     },
     "execution_count": 4,
     "metadata": {},
     "output_type": "execute_result"
    }
   ],
   "source": [
    "word_dic['中国']"
   ]
  },
  {
   "cell_type": "code",
   "execution_count": 5,
   "metadata": {},
   "outputs": [],
   "source": [
    "from annoy import AnnoyIndex"
   ]
  },
  {
   "cell_type": "code",
   "execution_count": 6,
   "metadata": {},
   "outputs": [
    {
     "data": {
      "text/plain": [
       "True"
      ]
     },
     "execution_count": 6,
     "metadata": {},
     "output_type": "execute_result"
    }
   ],
   "source": [
    "tc_index=AnnoyIndex(200)\n",
    "tc_index.load('../data/tc_index_build10.index')"
   ]
  },
  {
   "cell_type": "code",
   "execution_count": 7,
   "metadata": {},
   "outputs": [],
   "source": [
    "fp=open('../data/tc_word_index.json','r')\n",
    "word_index=json.load(fp)\n",
    "# 准备一个反向id==>word映射词表\n",
    "reverse_word_index = dict([(value, key) for (key, value) in word_index.items()])"
   ]
  },
  {
   "cell_type": "code",
   "execution_count": 8,
   "metadata": {},
   "outputs": [
    {
     "name": "stdout",
     "output_type": "stream",
     "text": [
      "半城烟沙\n",
      "醉赤壁\n",
      "星月神话\n",
      "庐州月\n",
      "清明雨上\n",
      "玫瑰花的葬礼\n",
      "爱恨恢恢\n",
      "发如雪\n",
      "诀别诗\n",
      "南山忆\n"
     ]
    }
   ],
   "source": [
    "first=0\n",
    "for item in tc_index.get_nns_by_item(word_index[u'逍遥叹'], 11):\n",
    "    first+=1\n",
    "    if first<2:\n",
    "        continue\n",
    "    print(reverse_word_index[item])"
   ]
  },
  {
   "cell_type": "code",
   "execution_count": 18,
   "metadata": {
    "scrolled": false
   },
   "outputs": [
    {
     "name": "stdout",
     "output_type": "stream",
     "text": [
      "18070\n"
     ]
    }
   ],
   "source": [
    "count=0\n",
    "for key in word_dic:\n",
    "    if key in word_index.keys():\n",
    "        count+=1\n",
    "        #item=word_index[key]\n",
    "        #print(key,'   ---->',item,tc_index.get_item_vector(item))\n",
    "        \n",
    "print(count)"
   ]
  },
  {
   "cell_type": "code",
   "execution_count": 45,
   "metadata": {},
   "outputs": [],
   "source": [
    "vec=open('../data/vec.txt','w')"
   ]
  },
  {
   "cell_type": "code",
   "execution_count": 46,
   "metadata": {},
   "outputs": [
    {
     "data": {
      "text/plain": [
       "10"
      ]
     },
     "execution_count": 46,
     "metadata": {},
     "output_type": "execute_result"
    }
   ],
   "source": [
    "vec.write('18070 200'+'\\n')"
   ]
  },
  {
   "cell_type": "code",
   "execution_count": 21,
   "metadata": {},
   "outputs": [],
   "source": [
    "vv=tc_index.get_item_vector(6)"
   ]
  },
  {
   "cell_type": "code",
   "execution_count": 47,
   "metadata": {},
   "outputs": [],
   "source": [
    "for key in word_dic:\n",
    "    if key in word_index.keys():\n",
    "        item=word_index[key]\n",
    "        v=tc_index.get_item_vector(item)\n",
    "        vec.write(key+' ')\n",
    "        for d in v:\n",
    "            vec.write(str(d)+' ')\n",
    "        vec.write('\\n')"
   ]
  },
  {
   "cell_type": "code",
   "execution_count": 48,
   "metadata": {},
   "outputs": [],
   "source": [
    "vec.close()"
   ]
  },
  {
   "cell_type": "code",
   "execution_count": 1,
   "metadata": {
    "ExecuteTime": {
     "end_time": "2019-07-09T11:48:00.323437Z",
     "start_time": "2019-07-09T11:47:37.003562Z"
    }
   },
   "outputs": [],
   "source": [
    "from gensim.models import  KeyedVectors"
   ]
  },
  {
   "cell_type": "code",
   "execution_count": 2,
   "metadata": {
    "ExecuteTime": {
     "end_time": "2019-07-09T11:48:11.325024Z",
     "start_time": "2019-07-09T11:48:04.413901Z"
    }
   },
   "outputs": [],
   "source": [
    "tc_wv_model=KeyedVectors.load_word2vec_format('../data/vec.txt',binary=False)"
   ]
  },
  {
   "cell_type": "code",
   "execution_count": 5,
   "metadata": {
    "ExecuteTime": {
     "end_time": "2019-07-09T11:48:42.616976Z",
     "start_time": "2019-07-09T11:48:42.601508Z"
    }
   },
   "outputs": [
    {
     "data": {
      "text/plain": [
       "[('国家', 0.7572988271713257),\n",
       " ('美国', 0.7531553506851196),\n",
       " ('我国', 0.7485135793685913),\n",
       " ('日本', 0.7391062378883362),\n",
       " ('国内', 0.7384742498397827),\n",
       " ('中国政府', 0.7312999963760376)]"
      ]
     },
     "execution_count": 5,
     "metadata": {},
     "output_type": "execute_result"
    }
   ],
   "source": [
    "tc_wv_model.most_similar('中国',topn=6)"
   ]
  }
 ],
 "metadata": {
  "hide_input": false,
  "kernelspec": {
   "display_name": "Python 3",
   "language": "python",
   "name": "python3"
  },
  "language_info": {
   "codemirror_mode": {
    "name": "ipython",
    "version": 3
   },
   "file_extension": ".py",
   "mimetype": "text/x-python",
   "name": "python",
   "nbconvert_exporter": "python",
   "pygments_lexer": "ipython3",
   "version": "3.6.5"
  },
  "toc": {
   "base_numbering": 1,
   "nav_menu": {},
   "number_sections": true,
   "sideBar": true,
   "skip_h1_title": false,
   "title_cell": "Table of Contents",
   "title_sidebar": "Contents",
   "toc_cell": true,
   "toc_position": {},
   "toc_section_display": true,
   "toc_window_display": false
  }
 },
 "nbformat": 4,
 "nbformat_minor": 2
}
