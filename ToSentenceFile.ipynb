{
 "cells": [
  {
   "cell_type": "markdown",
   "metadata": {
    "toc": true
   },
   "source": [
    "<h1>Table of Contents<span class=\"tocSkip\"></span></h1>\n",
    "<div class=\"toc\"><ul class=\"toc-item\"><li><span><a href=\"#将原本基于字的标注转变为基于词标注\" data-toc-modified-id=\"将原本基于字的标注转变为基于词标注-1\"><span class=\"toc-item-num\">1&nbsp;&nbsp;</span>将原本基于字的标注转变为基于词标注</a></span></li></ul></div>"
   ]
  },
  {
   "cell_type": "markdown",
   "metadata": {},
   "source": [
    "## 将原本基于字的标注转变为基于词标注\n",
    "---\n",
    ">文件转换"
   ]
  },
  {
   "cell_type": "code",
   "execution_count": 12,
   "metadata": {
    "ExecuteTime": {
     "end_time": "2019-07-09T10:26:32.094005Z",
     "start_time": "2019-07-09T10:26:32.089017Z"
    }
   },
   "outputs": [],
   "source": [
    "f=open(r'./data/example.dev','r',encoding='utf-8')"
   ]
  },
  {
   "cell_type": "code",
   "execution_count": 13,
   "metadata": {
    "ExecuteTime": {
     "end_time": "2019-07-09T10:26:32.108964Z",
     "start_time": "2019-07-09T10:26:32.101982Z"
    }
   },
   "outputs": [],
   "source": [
    "class SerialSentce:\n",
    "    def __init__(self, text, entity_list):\n",
    "        self.text = text\n",
    "        self.length = len(text)\n",
    "        if len(entity_list) < 1:\n",
    "            self.entity_list = []\n",
    "        else:\n",
    "            self.entity_list = entity_list"
   ]
  },
  {
   "cell_type": "code",
   "execution_count": 14,
   "metadata": {
    "ExecuteTime": {
     "end_time": "2019-07-09T10:26:32.117939Z",
     "start_time": "2019-07-09T10:26:32.111955Z"
    }
   },
   "outputs": [],
   "source": [
    "def obj_to_json(obj):\n",
    "    return {\n",
    "        'text': obj.text,\n",
    "        'length': obj.length,\n",
    "        'entity_list': obj.entity_list\n",
    "    }\n",
    "\n",
    "\n",
    "def json_to_obj(d):\n",
    "    return SerialSentce(d['text'], d['entity_list'])"
   ]
  },
  {
   "cell_type": "code",
   "execution_count": 15,
   "metadata": {
    "ExecuteTime": {
     "end_time": "2019-07-09T10:26:32.141919Z",
     "start_time": "2019-07-09T10:26:32.120932Z"
    }
   },
   "outputs": [],
   "source": [
    "def load_data(f):\n",
    "    type_dic = {}\n",
    "    sent_list = []\n",
    "    word_list = []\n",
    "    line = f.readline()\n",
    "    line_count = 1\n",
    "    while line:\n",
    "        line_count += 1\n",
    "        word_tag = line.strip('\\n').split(' ')  # 将句子末尾的换行符删除\n",
    "        if len(word_tag) > 1:\n",
    "            type_dic[word_tag[1]] = word_tag[1]\n",
    "            if word_tag[0] == '。':  # 切分语料，以‘。’为切分节点\n",
    "                if len(word_list) > 0:\n",
    "                    word_list.append(word_tag)\n",
    "                    sent_list.append(word_list)\n",
    "                    word_list = []\n",
    "            else:\n",
    "                word_list.append(word_tag)\n",
    "        line = f.readline()\n",
    "    f.close()\n",
    "    return sent_list, line_count, type_dic"
   ]
  },
  {
   "cell_type": "code",
   "execution_count": 16,
   "metadata": {
    "ExecuteTime": {
     "end_time": "2019-07-09T10:26:32.149854Z",
     "start_time": "2019-07-09T10:26:32.144867Z"
    }
   },
   "outputs": [],
   "source": [
    "sent_min_length=5\n",
    "sent_max_lengtht=1000"
   ]
  },
  {
   "cell_type": "code",
   "execution_count": 17,
   "metadata": {
    "ExecuteTime": {
     "end_time": "2019-07-09T10:26:32.162925Z",
     "start_time": "2019-07-09T10:26:32.152846Z"
    }
   },
   "outputs": [],
   "source": [
    "import json"
   ]
  },
  {
   "cell_type": "code",
   "execution_count": 7,
   "metadata": {
    "ExecuteTime": {
     "end_time": "2019-06-08T06:41:53.678084Z",
     "start_time": "2019-06-08T06:41:53.674094Z"
    },
    "deletable": false,
    "editable": false,
    "run_control": {
     "frozen": true
    }
   },
   "outputs": [],
   "source": [
    "s=SerialSentce('tsetestst',['hetong:合同1','xiangmu:项目1'])"
   ]
  },
  {
   "cell_type": "code",
   "execution_count": 8,
   "metadata": {
    "ExecuteTime": {
     "end_time": "2019-06-08T06:41:55.190951Z",
     "start_time": "2019-06-08T06:41:55.182975Z"
    },
    "deletable": false,
    "editable": false,
    "run_control": {
     "frozen": true
    }
   },
   "outputs": [
    {
     "name": "stdout",
     "output_type": "stream",
     "text": [
      "{\"text\": \"tsetestst\", \"length\": 9, \"entity_list\": [\"hetong:\\u5408\\u540c1\", \"xiangmu:\\u9879\\u76ee1\"]}\n"
     ]
    }
   ],
   "source": [
    "json_str=json.dumps(s,default=obj_to_json)\n",
    "print(json_str)"
   ]
  },
  {
   "cell_type": "code",
   "execution_count": 9,
   "metadata": {
    "ExecuteTime": {
     "end_time": "2019-06-08T06:41:56.987633Z",
     "start_time": "2019-06-08T06:41:56.983645Z"
    },
    "deletable": false,
    "editable": false,
    "run_control": {
     "frozen": true
    }
   },
   "outputs": [],
   "source": [
    "ss=json.loads(json_str,object_hook=json_to_obj)"
   ]
  },
  {
   "cell_type": "code",
   "execution_count": 10,
   "metadata": {
    "ExecuteTime": {
     "end_time": "2019-06-08T06:41:58.482288Z",
     "start_time": "2019-06-08T06:41:58.468324Z"
    },
    "deletable": false,
    "editable": false,
    "run_control": {
     "frozen": true
    }
   },
   "outputs": [
    {
     "data": {
      "text/plain": [
       "['hetong:合同1', 'xiangmu:项目1']"
      ]
     },
     "execution_count": 10,
     "metadata": {},
     "output_type": "execute_result"
    }
   ],
   "source": [
    "ss.entity_list"
   ]
  },
  {
   "cell_type": "code",
   "execution_count": 18,
   "metadata": {
    "ExecuteTime": {
     "end_time": "2019-07-09T10:26:32.180877Z",
     "start_time": "2019-07-09T10:26:32.164919Z"
    }
   },
   "outputs": [],
   "source": [
    "trans_f = open(r'./data/dev_transf.txt', 'a', encoding='utf-8')"
   ]
  },
  {
   "cell_type": "code",
   "execution_count": 19,
   "metadata": {
    "ExecuteTime": {
     "end_time": "2019-07-09T10:26:32.193850Z",
     "start_time": "2019-07-09T10:26:32.185863Z"
    }
   },
   "outputs": [],
   "source": [
    "def transform(sent_list, type_dic, trans_f):\n",
    "    serial_list = []\n",
    "    if type_dic.__contains__('O'):\n",
    "        type_dic.pop('O')  # 把O类型从字典中删除\n",
    "    for sent in sent_list:\n",
    "        if len(sent) < 1:\n",
    "            continue\n",
    "        text = ''\n",
    "        entity_list = []\n",
    "        entity_begin = False\n",
    "        entity = ''\n",
    "        for word in sent:\n",
    "            text += word[0]\n",
    "            if entity_begin == False:\n",
    "                if type_dic.__contains__(word[1]):\n",
    "                    entity += word[1]+':'+word[0]\n",
    "                    entity_begin = True\n",
    "            else:\n",
    "                if type_dic.__contains__(word[1]):\n",
    "                    entity += word[0]\n",
    "                else:\n",
    "                    entity_begin = False\n",
    "                    entity_list.append(entity)\n",
    "                    entity = ''\n",
    "        s = SerialSentce(text, entity_list)\n",
    "        serial_list.append(s)\n",
    "        serial = json.dumps(s, default=obj_to_json)\n",
    "        trans_f.writelines([serial, '\\n'])\n",
    "    trans_f.close()\n",
    "    return serial_list"
   ]
  },
  {
   "cell_type": "code",
   "execution_count": 20,
   "metadata": {
    "ExecuteTime": {
     "end_time": "2019-07-09T10:26:32.542484Z",
     "start_time": "2019-07-09T10:26:32.197831Z"
    }
   },
   "outputs": [],
   "source": [
    "data, lines, type_dic = load_data(f)"
   ]
  },
  {
   "cell_type": "code",
   "execution_count": 21,
   "metadata": {
    "ExecuteTime": {
     "end_time": "2019-07-09T10:26:32.631776Z",
     "start_time": "2019-07-09T10:26:32.545481Z"
    }
   },
   "outputs": [],
   "source": [
    "serial_list = transform(data, type_dic, trans_f)"
   ]
  },
  {
   "cell_type": "code",
   "execution_count": 22,
   "metadata": {
    "ExecuteTime": {
     "end_time": "2019-07-09T10:26:32.642742Z",
     "start_time": "2019-07-09T10:26:32.633765Z"
    }
   },
   "outputs": [
    {
     "data": {
      "text/plain": [
       "'通知书确认本公司为博鳌大农业国家公园一期工程项目(EPC)的中标人。'"
      ]
     },
     "execution_count": 22,
     "metadata": {},
     "output_type": "execute_result"
    }
   ],
   "source": [
    "serial_list[2].text"
   ]
  },
  {
   "cell_type": "code",
   "execution_count": 9,
   "metadata": {
    "ExecuteTime": {
     "end_time": "2019-06-08T06:04:28.942577Z",
     "start_time": "2019-06-08T06:04:28.938589Z"
    },
    "deletable": false,
    "editable": false,
    "run_control": {
     "frozen": true
    }
   },
   "outputs": [],
   "source": [
    "strr='老子吃定你了！'\n",
    "len(strr)\n",
    "test_dic={'name':1,'sex':2}"
   ]
  },
  {
   "cell_type": "code",
   "execution_count": 13,
   "metadata": {
    "ExecuteTime": {
     "end_time": "2019-06-08T06:07:04.661165Z",
     "start_time": "2019-06-08T06:07:04.657178Z"
    },
    "deletable": false,
    "editable": false,
    "run_control": {
     "frozen": true
    }
   },
   "outputs": [
    {
     "name": "stdout",
     "output_type": "stream",
     "text": [
      "yes\n"
     ]
    }
   ],
   "source": [
    "if test_dic.__contains__('name'):\n",
    "    print('yes')"
   ]
  },
  {
   "cell_type": "code",
   "execution_count": 28,
   "metadata": {
    "ExecuteTime": {
     "end_time": "2019-06-08T06:36:51.883416Z",
     "start_time": "2019-06-08T06:36:51.878429Z"
    },
    "deletable": false,
    "editable": false,
    "run_control": {
     "frozen": true
    }
   },
   "outputs": [
    {
     "data": {
      "text/plain": [
       "{'sex': 2}"
      ]
     },
     "execution_count": 28,
     "metadata": {},
     "output_type": "execute_result"
    }
   ],
   "source": [
    "test_dic.pop('name')\n",
    "test_dic"
   ]
  },
  {
   "cell_type": "code",
   "execution_count": null,
   "metadata": {},
   "outputs": [],
   "source": []
  }
 ],
 "metadata": {
  "hide_input": false,
  "kernelspec": {
   "display_name": "Python 3",
   "language": "python",
   "name": "python3"
  },
  "language_info": {
   "codemirror_mode": {
    "name": "ipython",
    "version": 3
   },
   "file_extension": ".py",
   "mimetype": "text/x-python",
   "name": "python",
   "nbconvert_exporter": "python",
   "pygments_lexer": "ipython3",
   "version": "3.6.5"
  },
  "toc": {
   "base_numbering": 1,
   "nav_menu": {},
   "number_sections": true,
   "sideBar": true,
   "skip_h1_title": false,
   "title_cell": "Table of Contents",
   "title_sidebar": "Contents",
   "toc_cell": true,
   "toc_position": {},
   "toc_section_display": true,
   "toc_window_display": false
  }
 },
 "nbformat": 4,
 "nbformat_minor": 2
}
