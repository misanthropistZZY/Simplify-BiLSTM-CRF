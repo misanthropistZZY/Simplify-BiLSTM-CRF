{
 "cells": [
  {
   "cell_type": "markdown",
   "metadata": {
    "toc": true
   },
   "source": [
    "<h1>Table of Contents<span class=\"tocSkip\"></span></h1>\n",
    "<div class=\"toc\"><ul class=\"toc-item\"><li><span><a href=\"#其他模块导入\" data-toc-modified-id=\"其他模块导入-1\"><span class=\"toc-item-num\">1&nbsp;&nbsp;</span>其他模块导入</a></span></li><li><span><a href=\"#Jieba分词\" data-toc-modified-id=\"Jieba分词-2\"><span class=\"toc-item-num\">2&nbsp;&nbsp;</span>Jieba分词</a></span></li><li><span><a href=\"#金融词向量训练\" data-toc-modified-id=\"金融词向量训练-3\"><span class=\"toc-item-num\">3&nbsp;&nbsp;</span>金融词向量训练</a></span></li></ul></div>"
   ]
  },
  {
   "cell_type": "markdown",
   "metadata": {},
   "source": [
    "## 其他模块导入"
   ]
  },
  {
   "cell_type": "code",
   "execution_count": 1,
   "metadata": {
    "ExecuteTime": {
     "end_time": "2019-06-30T08:41:34.157942Z",
     "start_time": "2019-06-30T08:41:33.665083Z"
    }
   },
   "outputs": [],
   "source": [
    "import Ipython_importer"
   ]
  },
  {
   "cell_type": "code",
   "execution_count": 5,
   "metadata": {
    "ExecuteTime": {
     "end_time": "2019-06-30T08:49:02.608466Z",
     "start_time": "2019-06-30T08:49:02.604477Z"
    }
   },
   "outputs": [],
   "source": [
    "import ReadSerialData"
   ]
  },
  {
   "cell_type": "code",
   "execution_count": 6,
   "metadata": {
    "ExecuteTime": {
     "end_time": "2019-06-30T08:50:31.787189Z",
     "start_time": "2019-06-30T08:50:31.593401Z"
    }
   },
   "outputs": [],
   "source": [
    "trans_f = open(r'./data/transf.txt', 'r', encoding='utf-8')\n",
    "sent_list=ReadSerialData.get_sent_list(trans_f)"
   ]
  },
  {
   "cell_type": "code",
   "execution_count": 7,
   "metadata": {
    "ExecuteTime": {
     "end_time": "2019-06-30T08:50:42.737108Z",
     "start_time": "2019-06-30T08:50:42.732121Z"
    }
   },
   "outputs": [
    {
     "name": "stdout",
     "output_type": "stream",
     "text": [
      "text---> 国家电网公司于2011年12月14日在其招投标网(https://ecp.sgcc.com.cn/BidUpgrade/jsp/login.jsp)公告了“国家电网公司集中规模招标采购2011年第六批输变电项目变电设备(含电缆)中标名单”,青岛汉缆股份有限公司(以下简称“公司”)为此项目第11分标(电缆及附件)中标人,第11分标(电缆及附件)中标10个包,电缆中标总数量102.481公里,附件中标总数量420套,中标金额约140000000。\n",
      "length---> 223\n",
      "entitys---> ['B-jiafang:国家电网公司', 'B-yifang:青岛汉缆股份有限公司']\n"
     ]
    }
   ],
   "source": [
    "sent_list[10].display()"
   ]
  },
  {
   "cell_type": "code",
   "execution_count": 8,
   "metadata": {
    "ExecuteTime": {
     "end_time": "2019-06-30T08:51:06.753806Z",
     "start_time": "2019-06-30T08:51:06.738851Z"
    }
   },
   "outputs": [
    {
     "data": {
      "text/plain": [
       "'国家电网公司于2011年12月14日在其招投标网(https://ecp.sgcc.com.cn/BidUpgrade/jsp/login.jsp)公告了“国家电网公司集中规模招标采购2011年第六批输变电项目变电设备(含电缆)中标名单”,青岛汉缆股份有限公司(以下简称“公司”)为此项目第11分标(电缆及附件)中标人,第11分标(电缆及附件)中标10个包,电缆中标总数量102.481公里,附件中标总数量420套,中标金额约140000000。'"
      ]
     },
     "execution_count": 8,
     "metadata": {},
     "output_type": "execute_result"
    }
   ],
   "source": [
    "sent_list[10].text"
   ]
  },
  {
   "cell_type": "markdown",
   "metadata": {},
   "source": [
    "## Jieba分词"
   ]
  },
  {
   "cell_type": "code",
   "execution_count": 9,
   "metadata": {
    "ExecuteTime": {
     "end_time": "2019-06-30T08:52:12.488785Z",
     "start_time": "2019-06-30T08:52:12.484797Z"
    }
   },
   "outputs": [],
   "source": [
    "import jieba"
   ]
  },
  {
   "cell_type": "code",
   "execution_count": 12,
   "metadata": {
    "ExecuteTime": {
     "end_time": "2019-06-30T08:58:48.813208Z",
     "start_time": "2019-06-30T08:58:48.806226Z"
    }
   },
   "outputs": [
    {
     "name": "stdout",
     "output_type": "stream",
     "text": [
      "国家电网 公司 于 2011 年 12 月 14 日 在 其 招投标 网 ( https : / / ecp . sgcc . com . cn / BidUpgrade / jsp / login . jsp ) 公告 了 “ 国家电网 公司 集中 规模 招标 采购 2011 年 第六批 输变电 项目 变电 设备 ( 含 电缆 ) 中标 名单 ” , 青岛 汉缆 股份 有限公司 ( 以下 简称 “ 公司 ” ) 为此 项目 第 11 分标 ( 电缆 及 附件 ) 中标人 , 第 11 分标 ( 电缆 及 附件 ) 中标 10 个 包 , 电缆 中标 总 数量 102.481 公里 , 附件 中标 总 数量 420 套 , 中标 金额 约 140000000 。\n"
     ]
    }
   ],
   "source": [
    "words = ' '.join(jieba.cut(sent_list[10].text, HMM=True))\n",
    "print(words)"
   ]
  },
  {
   "cell_type": "code",
   "execution_count": 13,
   "metadata": {
    "ExecuteTime": {
     "end_time": "2019-06-30T09:05:55.759250Z",
     "start_time": "2019-06-30T09:05:52.169237Z"
    }
   },
   "outputs": [],
   "source": [
    "seg_f = open('./data/金融分词结果.txt', 'a', encoding='utf-8')\n",
    "for sent in sent_list:\n",
    "    seg = ' '.join(jieba.cut(sent.text, HMM=True))\n",
    "    seg_f.write(seg+'\\n')\n",
    "seg_f.close()"
   ]
  },
  {
   "cell_type": "markdown",
   "metadata": {},
   "source": [
    "## 金融词向量训练"
   ]
  },
  {
   "cell_type": "code",
   "execution_count": 15,
   "metadata": {
    "ExecuteTime": {
     "end_time": "2019-06-30T09:07:54.303568Z",
     "start_time": "2019-06-30T09:07:54.300564Z"
    }
   },
   "outputs": [],
   "source": [
    "from gensim.models import word2vec"
   ]
  },
  {
   "cell_type": "code",
   "execution_count": 16,
   "metadata": {
    "ExecuteTime": {
     "end_time": "2019-06-30T09:09:55.065409Z",
     "start_time": "2019-06-30T09:09:50.557952Z"
    }
   },
   "outputs": [],
   "source": [
    "corp_path = r'./data/金融分词结果.txt'\n",
    "sentences = word2vec.Text8Corpus(corp_path)\n",
    "model = word2vec.Word2Vec(sentences, size=100, hs=1, min_count=1, window=4)"
   ]
  },
  {
   "cell_type": "code",
   "execution_count": 17,
   "metadata": {
    "ExecuteTime": {
     "end_time": "2019-06-30T09:10:31.854790Z",
     "start_time": "2019-06-30T09:10:31.530976Z"
    }
   },
   "outputs": [
    {
     "data": {
      "text/plain": [
       "[('建设项目', 0.632218599319458),\n",
       " ('模式', 0.6284095048904419),\n",
       " ('PPP', 0.6156461238861084),\n",
       " ('工程项目', 0.5922968983650208),\n",
       " ('采用', 0.5912981629371643),\n",
       " ('拟', 0.5653596520423889),\n",
       " ('工程', 0.5415239334106445),\n",
       " ('实施', 0.5329226851463318),\n",
       " ('建设', 0.5208241939544678),\n",
       " ('主体', 0.5194323062896729)]"
      ]
     },
     "execution_count": 17,
     "metadata": {},
     "output_type": "execute_result"
    }
   ],
   "source": [
    "model.wv.most_similar('项目',topn=10)"
   ]
  },
  {
   "cell_type": "code",
   "execution_count": 18,
   "metadata": {
    "ExecuteTime": {
     "end_time": "2019-06-30T09:13:58.902872Z",
     "start_time": "2019-06-30T09:13:58.893896Z"
    }
   },
   "outputs": [
    {
     "data": {
      "text/plain": [
       "[('广东省', 0.7530493140220642),\n",
       " ('宜丰县', 0.727055549621582),\n",
       " ('铜鼓', 0.7128979563713074),\n",
       " ('1096', 0.7015484571456909),\n",
       " ('三号', 0.6964954733848572)]"
      ]
     },
     "execution_count": 18,
     "metadata": {},
     "output_type": "execute_result"
    }
   ],
   "source": [
    "model.wv.most_similar('四川省',topn=5)"
   ]
  },
  {
   "cell_type": "code",
   "execution_count": 19,
   "metadata": {
    "ExecuteTime": {
     "end_time": "2019-06-30T09:16:48.763926Z",
     "start_time": "2019-06-30T09:16:48.208767Z"
    }
   },
   "outputs": [],
   "source": [
    "model.save('./ner_model/金融词向量.model')"
   ]
  }
 ],
 "metadata": {
  "hide_input": false,
  "kernelspec": {
   "display_name": "Python 3",
   "language": "python",
   "name": "python3"
  },
  "language_info": {
   "codemirror_mode": {
    "name": "ipython",
    "version": 3
   },
   "file_extension": ".py",
   "mimetype": "text/x-python",
   "name": "python",
   "nbconvert_exporter": "python",
   "pygments_lexer": "ipython3",
   "version": "3.6.5"
  },
  "toc": {
   "base_numbering": 1,
   "nav_menu": {},
   "number_sections": true,
   "sideBar": true,
   "skip_h1_title": false,
   "title_cell": "Table of Contents",
   "title_sidebar": "Contents",
   "toc_cell": true,
   "toc_position": {},
   "toc_section_display": true,
   "toc_window_display": false
  }
 },
 "nbformat": 4,
 "nbformat_minor": 2
}
